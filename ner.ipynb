{
 "cells": [
  {
   "cell_type": "code",
   "execution_count": 2,
   "metadata": {},
   "outputs": [
    {
     "name": "stdout",
     "output_type": "stream",
     "text": [
      "2024-09-26 14:26:13,155 SequenceTagger predicts: Dictionary with 20 tags: <unk>, O, S-ORG, S-MISC, B-PER, E-PER, S-LOC, B-ORG, E-ORG, I-PER, S-PER, B-MISC, I-MISC, E-MISC, I-ORG, B-LOC, E-LOC, I-LOC, <START>, <STOP>\n"
     ]
    }
   ],
   "source": [
    "from flair.data import Sentence\n",
    "from flair.models import SequenceTagger\n",
    "import string\n",
    "from urllib.request import urlopen\n",
    "from bs4 import BeautifulSoup\n",
    "\n",
    "# url = \"https://www.foxnews.com/politics/17-retired-military-officials-raise-alarm-bidens-electric-vehicle-push\"\n",
    "# html = urlopen(url).read()\n",
    "with open('fox1.html', 'r', encoding='utf-8') as file:\n",
    "    html = file.read()\n",
    "soup = BeautifulSoup(html, features=\"html.parser\")\n",
    "main_content = soup.find('div', {'class': 'article-body'})\n",
    "\n",
    "paragraphs = main_content.find_all('p')\n",
    "with open(\"txt_output.txt\", \"w\", encoding=\"utf-8\") as file:\n",
    "    # Iterate through paragraphs and write each to the file\n",
    "    for p in paragraphs:\n",
    "        text = p.get_text()\n",
    "        # Split the text into sentences\n",
    "        sentences = text.split('. ')\n",
    "        # Check and write sentences that are not in all caps\n",
    "        for sentence in sentences:\n",
    "            # If the sentence is not in all uppercase, write it to the file\n",
    "            if not sentence.isupper():\n",
    "                file.write(sentence + \".\\n\")\n",
    "\n",
    "#######################################################################################################################################################################################################################################################################################################################\n",
    "# load tagger\n",
    "tagger = SequenceTagger.load(\"flair/ner-english-fast\")\n",
    "# make example sentence\n",
    "# sentence = 'One week after challenging the Biden administrations sweeping new emissions standards for cars and light-duty vehicles, a coalition of agricultural, manufacturing and energy production concerns launched lawsuits to block impending rules on trucks and buses. The new standards apply to \"heavy-duty vocational vehicles,\" which also include garbage trucks and bobtails. While the Biden administration and its agencies have strenuously denied the new rules represent a forthcoming \"ban\" on internal combustion engines, plaintiffs were not convinced as they filed petitions in Washington, D.C., federal court this week. The American Petroleum Institute (API) led one suit, which included the American Farm Bureau Federation, Corn Growers Association and Owner-Operator Independent Drivers Association. EPA SUED BY CONSUMER, MANUFACTURING, AGRICULTURAL COALITIONS OVER BIDENS NEW VEHICLE EMISSIONS RULE  The groups named the Environmental Protection Agency (EPA) and Biden-appointed administrator Michael Regan as defendants, while a group headlined by the American Fuel'\n",
    "# Read in a single txt file line by line and save as string\n",
    "file_path = 'txt_output.txt'\n",
    "with open(file_path, encoding = \"utf-8\") as file:\n",
    "    file_content = ''\n",
    "    line = file.readline()\n",
    "     \n",
    "    while line:\n",
    "        file_content += line\n",
    "        line = file.readline()\n",
    "\n",
    "translator = str.maketrans('', '', string.punctuation.replace('-', ''))\n",
    "# Use translate to remove punctuation\n",
    "cleaned_sentence = file_content.translate(translator)\n",
    "\n",
    "sent = Sentence(cleaned_sentence)\n",
    "\n",
    "# predict NER tags\n",
    "tagger.predict(sent)\n",
    "\n",
    "# print sentence\n",
    "# print(sent)\n",
    "\n",
    "# print('The following NER tags are found:')\n",
    "\n",
    "output_file_path = 'ner_results.txt'\n",
    "\n",
    "with open(output_file_path, 'w', encoding=\"utf-8\") as out_file:\n",
    "    out_file.write('The following NER tags are found:\\n')\n",
    "    for entity in sent.get_spans('ner'):\n",
    "        out_file.write(f'{entity}\\n')  # write each entity to the file\n",
    "\n",
    "# for entity in sent.get_spans('ner'):\n",
    "#    output_file.write(entity)\n",
    "#    print(entity)\n",
    "# output_file.close()"
   ]
  }
 ],
 "metadata": {
  "kernelspec": {
   "display_name": "Python 3",
   "language": "python",
   "name": "python3"
  },
  "language_info": {
   "codemirror_mode": {
    "name": "ipython",
    "version": 3
   },
   "file_extension": ".py",
   "mimetype": "text/x-python",
   "name": "python",
   "nbconvert_exporter": "python",
   "pygments_lexer": "ipython3",
   "version": "3.11.5"
  }
 },
 "nbformat": 4,
 "nbformat_minor": 2
}
