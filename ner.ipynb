{
 "cells": [
  {
   "cell_type": "code",
   "execution_count": 1,
   "metadata": {},
   "outputs": [],
   "source": [
    "import pandas as pd"
   ]
  },
  {
   "cell_type": "markdown",
   "metadata": {},
   "source": [
    "This is a model from Python's library called Flair"
   ]
  },
  {
   "cell_type": "code",
   "execution_count": 2,
   "metadata": {},
   "outputs": [
    {
     "name": "stderr",
     "output_type": "stream",
     "text": [
      "c:\\Users\\StevenZhou\\AppData\\Local\\Programs\\Python\\Python311\\Lib\\site-packages\\tqdm\\auto.py:21: TqdmWarning: IProgress not found. Please update jupyter and ipywidgets. See https://ipywidgets.readthedocs.io/en/stable/user_install.html\n",
      "  from .autonotebook import tqdm as notebook_tqdm\n",
      "c:\\Users\\StevenZhou\\AppData\\Local\\Programs\\Python\\Python311\\Lib\\site-packages\\huggingface_hub\\file_download.py:159: UserWarning: `huggingface_hub` cache-system uses symlinks by default to efficiently store duplicated files but your machine does not support them in C:\\Users\\StevenZhou\\.flair\\models\\ner-english-fast\\models--flair--ner-english-fast. Caching files will still work but in a degraded version that might require more space on your disk. This warning can be disabled by setting the `HF_HUB_DISABLE_SYMLINKS_WARNING` environment variable. For more details, see https://huggingface.co/docs/huggingface_hub/how-to-cache#limitations.\n",
      "To support symlinks on Windows, you either need to activate Developer Mode or to run Python as an administrator. In order to see activate developer mode, see this article: https://docs.microsoft.com/en-us/windows/apps/get-started/enable-your-device-for-development\n",
      "  warnings.warn(message)\n"
     ]
    },
    {
     "name": "stdout",
     "output_type": "stream",
     "text": [
      "2024-08-30 19:16:28,360 SequenceTagger predicts: Dictionary with 20 tags: <unk>, O, S-ORG, S-MISC, B-PER, E-PER, S-LOC, B-ORG, E-ORG, I-PER, S-PER, B-MISC, I-MISC, E-MISC, I-ORG, B-LOC, E-LOC, I-LOC, <START>, <STOP>\n",
      "Sentence[145]: \"One week after challenging the Biden administrations sweeping new emissions standards for cars and lightduty vehicles a coalition of agricultural manufacturing and energy production concerns launched lawsuits to block impending rules on trucks and buses The new standards apply to heavyduty vocational vehicles which also include garbage trucks and bobtails While the Biden administration and its agencies have strenuously denied the new rules represent a forthcoming ban on internal combustion engines plaintiffs were not convinced as they filed petitions in Washington DC federal court this week The American Petroleum Institute API led one suit which included the American Farm Bureau Federation Corn Growers Association and OwnerOperator Independent Drivers Association EPA SUED BY CONSUMER MANUFACTURING AGRICULTURAL COALITIONS OVER BIDENS NEW VEHICLE EMISSIONS RULE  The groups named the Environmental Protection Agency EPA and Bidenappointed administrator Michael Regan as defendants while a group headlined by the American Fuel\" → [\"Biden\"/PER, \"Biden\"/PER, \"Washington DC\"/ORG, \"American Petroleum Institute API\"/ORG, \"American Farm Bureau Federation Corn Growers Association\"/ORG, \"OwnerOperator Independent Drivers Association\"/ORG, \"BIDENS\"/ORG, \"Environmental Protection Agency EPA\"/ORG, \"Bidenappointed\"/ORG, \"Michael Regan\"/PER, \"American Fuel\"/ORG]\n",
      "The following NER tags are found:\n",
      "Span[5:6]: \"Biden\" → PER (0.9264)\n",
      "Span[52:53]: \"Biden\" → PER (0.9907)\n",
      "Span[80:82]: \"Washington DC\" → ORG (0.6834)\n",
      "Span[87:91]: \"American Petroleum Institute API\" → ORG (0.8148)\n",
      "Span[97:104]: \"American Farm Bureau Federation Corn Growers Association\" → ORG (0.9864)\n",
      "Span[105:109]: \"OwnerOperator Independent Drivers Association\" → ORG (0.9446)\n",
      "Span[117:118]: \"BIDENS\" → ORG (0.4870)\n",
      "Span[126:130]: \"Environmental Protection Agency EPA\" → ORG (0.8647)\n",
      "Span[131:132]: \"Bidenappointed\" → ORG (0.9563)\n",
      "Span[133:135]: \"Michael Regan\" → PER (0.9993)\n",
      "Span[143:145]: \"American Fuel\" → ORG (0.7382)\n"
     ]
    }
   ],
   "source": [
    "from flair.data import Sentence\n",
    "from flair.models import SequenceTagger\n",
    "import string\n",
    "\n",
    "# load tagger\n",
    "tagger = SequenceTagger.load(\"flair/ner-english-fast\")\n",
    "\n",
    "# make example sentence\n",
    "sentence = 'One week after challenging the Biden administrations sweeping new emissions standards for cars and light-duty vehicles, a coalition of agricultural, manufacturing and energy production concerns launched lawsuits to block impending rules on trucks and buses. The new standards apply to \"heavy-duty vocational vehicles,\" which also include garbage trucks and bobtails. While the Biden administration and its agencies have strenuously denied the new rules represent a forthcoming \"ban\" on internal combustion engines, plaintiffs were not convinced as they filed petitions in Washington, D.C., federal court this week. The American Petroleum Institute (API) led one suit, which included the American Farm Bureau Federation, Corn Growers Association and Owner-Operator Independent Drivers Association. EPA SUED BY CONSUMER, MANUFACTURING, AGRICULTURAL COALITIONS OVER BIDENS NEW VEHICLE EMISSIONS RULE  The groups named the Environmental Protection Agency (EPA) and Biden-appointed administrator Michael Regan as defendants, while a group headlined by the American Fuel'\n",
    "\n",
    "translator = str.maketrans('', '', string.punctuation)\n",
    "# Use translate to remove punctuation\n",
    "cleaned_sentence = sentence.translate(translator)\n",
    "\n",
    "sent = Sentence(cleaned_sentence)\n",
    "\n",
    "# predict NER tags\n",
    "tagger.predict(sent)\n",
    "\n",
    "# print sentence\n",
    "print(sent)\n",
    "\n",
    "print('The following NER tags are found:')\n",
    "\n",
    "for entity in sent.get_spans('ner'):\n",
    "    print(entity)\n"
   ]
  }
 ],
 "metadata": {
  "kernelspec": {
   "display_name": "Python 3",
   "language": "python",
   "name": "python3"
  },
  "language_info": {
   "codemirror_mode": {
    "name": "ipython",
    "version": 3
   },
   "file_extension": ".py",
   "mimetype": "text/x-python",
   "name": "python",
   "nbconvert_exporter": "python",
   "pygments_lexer": "ipython3",
   "version": "3.11.5"
  }
 },
 "nbformat": 4,
 "nbformat_minor": 2
}
