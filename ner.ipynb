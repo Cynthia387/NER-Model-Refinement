{
 "cells": [
  {
   "cell_type": "code",
   "execution_count": 1,
   "metadata": {},
   "outputs": [],
   "source": [
    "import pandas as pd"
   ]
  },
  {
   "cell_type": "code",
   "execution_count": 12,
   "metadata": {},
   "outputs": [
    {
     "name": "stdout",
     "output_type": "stream",
     "text": [
      "2024-09-09 14:46:46,585 SequenceTagger predicts: Dictionary with 20 tags: <unk>, O, S-ORG, S-MISC, B-PER, E-PER, S-LOC, B-ORG, E-ORG, I-PER, S-PER, B-MISC, I-MISC, E-MISC, I-ORG, B-LOC, E-LOC, I-LOC, <START>, <STOP>\n",
      "Sentence[689]: \"One week after challenging the Biden administration’s sweeping new emissions standards for cars and lightduty vehicles a coalition of agricultural manufacturing and energy production concerns launched lawsuits to block impending rules on trucks and buses The new standards apply to heavyduty vocational vehicles which also include garbage trucks and bobtails While the Biden administration and its agencies have strenuously denied the new rules represent a forthcoming ban on internal combustion engines plaintiffs were not convinced as they filed petitions in Washington DC federal court this week The American Petroleum Institute API led one suit which included the American Farm Bureau Federation Corn Growers Association and OwnerOperator Independent Drivers Association EPA SUED BY CONSUMER MANUFACTURING AGRICULTURAL COALITIONS OVER BIDENS NEW VEHICLE EMISSIONS RULE  The groups named the Environmental Protection Agency EPA and Bidenappointed administrator Michael Regan as defendants while a group headlined by the American Fuel amp Petrochemical Manufacturers AFPM named only the agency The latter suit included energy productionrelated groups on the Gulf Coast marketing groups California manufacturing associations and a machinist and aerospace workers union The APIled action alleged the EPA’s final rule on heavyduty vehicles violates federal law prohibiting arbitrary and capricious statutory provisions and they petitioned the court to throw it out AFPM’s court action claimed the EPA’s new regulation wrongly imposes an electrification mandate on the nation’s trucking sector The EPA does not have authority under the Clean Air Act to restrict Americans’ access to or use of internal combustion engine technology AFPM general counsel Rich Moskowitz told Fox News Digital The HeavyDuty Vehicle HDV regulation finalized this spring aims to phaseout trucks that run on Americanmade Americangrown diesel biodiesel renewable diesel and renewable natural gas and Americans will pay dearly because of it GREEN GOVERNANCE THE NEW GUISE FOR MERCANTILISM WILL LEAD TO GLOBAL INSTABILITY EXPERT  Moskowitz added that the EPA’s policies will put undue strain on the national electric grid cause traffic problems and wrongly make a sweeping policy change without Congress’ blessing A representative for API echoed Moskowitz’ sentiments telling Fox News Digital the group is defending consumers who rely on trucks to deliver goods they use every daynbsp The EPA is forcing a switch to technology that simply does not presently exist for these kinds of vehicles – and even if it were someday possible it will almost certainly have consequences for your average American API Senior Vice President Ryan Meyers said This is sadly yet another example of this administration pushing unpopular policy mandates that lack statutory authority and we look forward to holding them accountable in court An official with the corn growers group said that the rule unduly hurts US grain farmers who help supply the ethanol now otherwise standard in American gasoline EPA has tried to impose a onesizefitsall approach to addressing climate change by prioritizing electric vehicles over other climate remedies like corn ethanol Minnesota farmer and National Corn Growers Association President Harold Wolle said Ethanol is not only critical in the climate fight but it also saves consumers money at the pump while benefiting America’s rural economies We look forward to making this case in court CLICK HERE TO GET THE FOX NEWS APP  In an official fact sheet covering its March announcement of the new emissions rules the EPA called them technologyneutral and performancebased allowing each manufacturer to choose what set of emissions control technologies is best suited to meet the standards and the needs of their customers These greenhouse gas reductions will benefit all US residents including populations such as people of color lowincome populations indigenous peoples andor children that may be especially vulnerable to various forms of damages associated with climate change The EPA did not respond to a request for comment on the truck rule lawsuit but told Fox News Digital in response to the lightduty truck and car rule petition the new rule does not negatively affect consumers or choice By encouraging continued development of more efficient vehicles EPA’s standards … acceleratee adoption of technologies that reduce fuel and maintenance costs as well as pollution an EPA spokesperson said at the time\" → [\"Biden\"/PER, \"Biden\"/PER, \"Washington DC\"/LOC, \"American Petroleum Institute\"/ORG, \"American Farm Bureau Federation Corn Growers Association\"/ORG, \"OwnerOperator Independent Drivers Association\"/ORG, \"BIDENS\"/ORG, \"Environmental Protection Agency EPA\"/ORG, \"Bidenappointed\"/ORG, \"Michael Regan\"/PER, \"American Fuel amp Petrochemical Manufacturers AFPM\"/ORG, \"Gulf Coast\"/LOC, \"California\"/LOC, \"APIled\"/ORG, \"EPA\"/ORG, \"AFPM\"/ORG, \"EPA\"/ORG, \"EPA\"/ORG, \"Clean Air Act\"/MISC, \"Americans’\"/MISC, \"AFPM\"/ORG, \"Rich Moskowitz\"/PER, \"Fox News\"/ORG, \"Americanmade Americangrown\"/MISC, \"Americans\"/MISC, \"Moskowitz\"/PER, \"EPA\"/ORG, \"Congress’\"/ORG, \"API\"/ORG, \"Moskowitz’\"/MISC, \"Fox News\"/ORG, \"EPA\"/ORG, \"American\"/MISC, \"API\"/ORG, \"Ryan Meyers\"/PER, \"US\"/LOC, \"American\"/MISC, \"EPA\"/ORG, \"Minnesota\"/LOC, \"National Corn Growers Association\"/ORG, \"Harold Wolle\"/PER, \"America\"/LOC, \"FOX NEWS APP\"/ORG, \"EPA\"/ORG, \"US\"/LOC, \"EPA\"/ORG, \"Fox News Digital\"/ORG, \"EPA\"/ORG, \"EPA\"/ORG]\n"
     ]
    }
   ],
   "source": [
    "from flair.data import Sentence\n",
    "from flair.models import SequenceTagger\n",
    "import string\n",
    "\n",
    "# load tagger\n",
    "tagger = SequenceTagger.load(\"flair/ner-english-fast\")\n",
    "\n",
    "# make example sentence\n",
    "# sentence = 'One week after challenging the Biden administrations sweeping new emissions standards for cars and light-duty vehicles, a coalition of agricultural, manufacturing and energy production concerns launched lawsuits to block impending rules on trucks and buses. The new standards apply to \"heavy-duty vocational vehicles,\" which also include garbage trucks and bobtails. While the Biden administration and its agencies have strenuously denied the new rules represent a forthcoming \"ban\" on internal combustion engines, plaintiffs were not convinced as they filed petitions in Washington, D.C., federal court this week. The American Petroleum Institute (API) led one suit, which included the American Farm Bureau Federation, Corn Growers Association and Owner-Operator Independent Drivers Association. EPA SUED BY CONSUMER, MANUFACTURING, AGRICULTURAL COALITIONS OVER BIDENS NEW VEHICLE EMISSIONS RULE  The groups named the Environmental Protection Agency (EPA) and Biden-appointed administrator Michael Regan as defendants, while a group headlined by the American Fuel'\n",
    "# Read in a single txt file line by line and save as string\n",
    "file_path = 'fox1.txt'\n",
    "with open(file_path, encoding = \"utf-8\") as file:\n",
    "    file_content = ''\n",
    "    line = file.readline()\n",
    "     \n",
    "    while line:\n",
    "        file_content += line\n",
    "        line = file.readline()\n",
    "\n",
    "translator = str.maketrans('', '', string.punctuation)\n",
    "# Use translate to remove punctuation\n",
    "cleaned_sentence = file_content.translate(translator)\n",
    "\n",
    "sent = Sentence(cleaned_sentence)\n",
    "\n",
    "# predict NER tags\n",
    "tagger.predict(sent)\n",
    "\n",
    "# print sentence\n",
    "# print(sent)\n",
    "\n",
    "# print('The following NER tags are found:')\n",
    "\n",
    "output_file_path = 'ner_results.txt'\n",
    "\n",
    "with open(output_file_path, 'w', encoding=\"utf-8\") as out_file:\n",
    "    out_file.write('The following NER tags are found:\\n')\n",
    "    for entity in sent.get_spans('ner'):\n",
    "        out_file.write(f'{entity}\\n')  # write each entity to the file\n",
    "\n",
    "# for entity in sent.get_spans('ner'):\n",
    "#    output_file.write(entity)\n",
    "#    print(entity)\n",
    "\n",
    "# output_file.close()"
   ]
  },
  {
   "cell_type": "code",
   "execution_count": 7,
   "metadata": {},
   "outputs": [
    {
     "data": {
      "text/plain": [
       "flair.data.Sentence"
      ]
     },
     "execution_count": 7,
     "metadata": {},
     "output_type": "execute_result"
    }
   ],
   "source": [
    "type(sent)"
   ]
  },
  {
   "cell_type": "code",
   "execution_count": 8,
   "metadata": {},
   "outputs": [
    {
     "data": {
      "text/plain": [
       "flair.data.Span"
      ]
     },
     "execution_count": 8,
     "metadata": {},
     "output_type": "execute_result"
    }
   ],
   "source": [
    "type(entity)"
   ]
  }
 ],
 "metadata": {
  "kernelspec": {
   "display_name": "Python 3",
   "language": "python",
   "name": "python3"
  },
  "language_info": {
   "codemirror_mode": {
    "name": "ipython",
    "version": 3
   },
   "file_extension": ".py",
   "mimetype": "text/x-python",
   "name": "python",
   "nbconvert_exporter": "python",
   "pygments_lexer": "ipython3",
   "version": "3.11.5"
  }
 },
 "nbformat": 4,
 "nbformat_minor": 2
}
